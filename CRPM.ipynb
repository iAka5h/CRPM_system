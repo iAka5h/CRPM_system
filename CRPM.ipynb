{
 "cells": [
  {
   "cell_type": "code",
   "execution_count": null,
   "metadata": {},
   "outputs": [],
   "source": [
    "!pip install streamlit\n",
    "!pip install pymysql\n",
    "!pip install pandas\n",
    "!pip install matplotlib"
   ]
  },
  {
   "cell_type": "code",
   "execution_count": 2,
   "metadata": {},
   "outputs": [],
   "source": [
    "import streamlit as st\n",
    "import pymysql\n",
    "import pandas as pd\n",
    "import matplotlib.pyplot as plt\n"
   ]
  },
  {
   "cell_type": "code",
   "execution_count": 7,
   "metadata": {},
   "outputs": [
    {
     "name": "stdout",
     "output_type": "stream",
     "text": [
      "Tables created successfully!\n"
     ]
    }
   ],
   "source": [
    "import pymysql\n",
    "\n",
    "# Establish database connection\n",
    "conn = pymysql.connect(\n",
    "    host=\"localhost\",\n",
    "    user=\"root\",  \n",
    "    password=\"root\",  \n",
    "    port=3306,\n",
    "    database='CRPM_System1'\n",
    ")\n",
    "cursor = conn.cursor()\n",
    "\n",
    "# Create Tables\n",
    "def create_tables():\n",
    "    cursor.execute('''\n",
    "        CREATE TABLE IF NOT EXISTS Customers (\n",
    "            CustomerID INT AUTO_INCREMENT PRIMARY KEY,\n",
    "            Name VARCHAR(255) NOT NULL,\n",
    "            Email VARCHAR(255) UNIQUE NOT NULL,\n",
    "            Phone VARCHAR(15) NOT NULL,\n",
    "            Status VARCHAR(50) DEFAULT 'Active'\n",
    "        )\n",
    "    ''')\n",
    "    cursor.execute('''\n",
    "        CREATE TABLE IF NOT EXISTS Products (\n",
    "            ProductID INT AUTO_INCREMENT PRIMARY KEY,\n",
    "            Name VARCHAR(255) NOT NULL,\n",
    "            Price DECIMAL(10, 2) NOT NULL,\n",
    "            Stock INT NOT NULL,\n",
    "            Status VARCHAR(50) DEFAULT 'Active'\n",
    "        )\n",
    "    ''')\n",
    "    cursor.execute('''\n",
    "        CREATE TABLE IF NOT EXISTS Purchases (\n",
    "            PurchaseID INT AUTO_INCREMENT PRIMARY KEY,\n",
    "            CustomerID INT NOT NULL,\n",
    "            ProductID INT NOT NULL,\n",
    "            Quantity INT NOT NULL,\n",
    "            TotalCost DECIMAL(10, 2) NOT NULL,\n",
    "            FOREIGN KEY (CustomerID) REFERENCES Customers(CustomerID),\n",
    "            FOREIGN KEY (ProductID) REFERENCES Products(ProductID)\n",
    "        )\n",
    "    ''')\n",
    "    conn.commit()\n",
    "\n",
    "# Call the function to create tables\n",
    "create_tables()\n",
    "\n",
    "print(\"Tables created successfully!\")\n"
   ]
  },
  {
   "cell_type": "code",
   "execution_count": null,
   "metadata": {},
   "outputs": [],
   "source": []
  },
  {
   "cell_type": "code",
   "execution_count": null,
   "metadata": {},
   "outputs": [],
   "source": []
  },
  {
   "cell_type": "code",
   "execution_count": null,
   "metadata": {},
   "outputs": [],
   "source": []
  }
 ],
 "metadata": {
  "kernelspec": {
   "display_name": ".venv",
   "language": "python",
   "name": "python3"
  },
  "language_info": {
   "codemirror_mode": {
    "name": "ipython",
    "version": 3
   },
   "file_extension": ".py",
   "mimetype": "text/x-python",
   "name": "python",
   "nbconvert_exporter": "python",
   "pygments_lexer": "ipython3",
   "version": "3.11.9"
  }
 },
 "nbformat": 4,
 "nbformat_minor": 2
}
